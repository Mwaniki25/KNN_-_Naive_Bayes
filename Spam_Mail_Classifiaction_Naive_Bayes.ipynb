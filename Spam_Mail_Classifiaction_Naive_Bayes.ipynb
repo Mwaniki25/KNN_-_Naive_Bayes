{
  "nbformat": 4,
  "nbformat_minor": 0,
  "metadata": {
    "colab": {
      "name": "Spam_Mail_Classifiaction_Naive_Bayes",
      "provenance": [],
      "collapsed_sections": [],
      "authorship_tag": "ABX9TyOETF4AVWY8XtVUMPWNChF/",
      "include_colab_link": true
    },
    "kernelspec": {
      "name": "python3",
      "display_name": "Python 3"
    },
    "language_info": {
      "name": "python"
    }
  },
  "cells": [
    {
      "cell_type": "markdown",
      "metadata": {
        "id": "view-in-github",
        "colab_type": "text"
      },
      "source": [
        "<a href=\"https://colab.research.google.com/github/Mwaniki25/KNN_-_Naive_Bayes/blob/main/Spam_Mail_Classifiaction_Naive_Bayes.ipynb\" target=\"_parent\"><img src=\"https://colab.research.google.com/assets/colab-badge.svg\" alt=\"Open In Colab\"/></a>"
      ]
    },
    {
      "cell_type": "markdown",
      "metadata": {
        "id": "xMxtPsqcTsSH"
      },
      "source": [
        "# Spam Classification Using Naive Bayes"
      ]
    },
    {
      "cell_type": "markdown",
      "metadata": {
        "id": "kLG2VTrnTvYL"
      },
      "source": [
        "## 1. Defining the Question"
      ]
    },
    {
      "cell_type": "markdown",
      "metadata": {
        "id": "XecOwPNorl2W"
      },
      "source": [
        "### a) Specifying the Data Analytic Question"
      ]
    },
    {
      "cell_type": "markdown",
      "metadata": {
        "id": "9ozBnKfehSAw"
      },
      "source": [
        "> Classifying email data using Naive bayes"
      ]
    },
    {
      "cell_type": "markdown",
      "metadata": {
        "id": "J4wfHZwQrs-t"
      },
      "source": [
        "### b) Defining the Metric for Success"
      ]
    },
    {
      "cell_type": "markdown",
      "metadata": {
        "id": "a9BPYqunry97"
      },
      "source": [
        "### c) Understanding the context "
      ]
    },
    {
      "cell_type": "markdown",
      "metadata": {
        "id": "7KMRBJ7zr9HD"
      },
      "source": [
        "### d) Recording the Experimental Design"
      ]
    },
    {
      "cell_type": "markdown",
      "metadata": {
        "id": "zSGyg6kWsBUl"
      },
      "source": [
        "### e) Data Relevance"
      ]
    },
    {
      "cell_type": "markdown",
      "metadata": {
        "id": "iUNbvIvnT7ep"
      },
      "source": [
        "## 2. Reading the Data"
      ]
    },
    {
      "cell_type": "code",
      "metadata": {
        "id": "aaCxaLYf7K6V"
      },
      "source": [
        "# Importing libraries\n",
        "import pandas as pd\n",
        "import numpy as np\n",
        "import matplotlib.pyplot as plt\n",
        "import seaborn as sns\n",
        "%matplotlib inline"
      ],
      "execution_count": 17,
      "outputs": []
    },
    {
      "cell_type": "code",
      "metadata": {
        "id": "XJn2KjW-WMlG"
      },
      "source": [
        "# Loading the Data from the source i.e. csv\n",
        "# ---\n",
        "names = ['word_freq_make','word_freq_address','word_freq_all','word_freq_3d','word_freq_our','word_freq_over',\n",
        "        'word_freq_remove','word_freq_internet','word_freq_order','word_freq_mail', 'word_freq_receive','word_freq_will',\n",
        "        'word_freq_people','word_freq_report','word_freq_addresses','word_freq_free','word_freq_business','word_freq_email',\n",
        "         'word_freq_you','word_freq_credit','word_freq_your','word_freq_font','word_freq_000','word_freq_money','word_freq_hp',\n",
        "         'word_freq_hpl','word_freq_george','word_freq_650','word_freq_lab','word_freq_labs','word_freq_telnet','word_freq_857',\n",
        "         'word_freq_data','word_freq_415','word_freq_85','word_freq_technology','word_freq_1999','word_freq_parts',\n",
        "         'word_freq_pm','word_freq_direct','word_freq_cs','word_freq_meeting','word_freq_original','word_freq_project',\n",
        "         'word_freq_re','word_freq_edu','word_freq_table','word_freq_conference','char_freq_;','char_freq_(','char_freq_[',\n",
        "         'char_freq_!','char_freq_$','char_freq_#','capital_run_length_average','capital_run_length_longest',\n",
        "         'capital_run_length_total','spam']\n",
        "\n",
        "data  = pd.read_csv('https://archive.ics.uci.edu/ml/machine-learning-databases/spambase/spambase.data',names = names)\n"
      ],
      "execution_count": 3,
      "outputs": []
    },
    {
      "cell_type": "markdown",
      "metadata": {
        "id": "OI3P3YnHUEBk"
      },
      "source": [
        "\n",
        "\n",
        "## 3. Checking the Data"
      ]
    },
    {
      "cell_type": "code",
      "metadata": {
        "id": "YjSVNwgptHxY",
        "colab": {
          "base_uri": "https://localhost:8080/"
        },
        "outputId": "4b5bb6c0-6b01-4a5c-b64f-9de483b40baf"
      },
      "source": [
        "# Determining the no. of records in our dataset\n",
        "#\n",
        "data.shape"
      ],
      "execution_count": 4,
      "outputs": [
        {
          "output_type": "execute_result",
          "data": {
            "text/plain": [
              "(4601, 58)"
            ]
          },
          "metadata": {
            "tags": []
          },
          "execution_count": 4
        }
      ]
    },
    {
      "cell_type": "code",
      "metadata": {
        "id": "xHhTw5eKWr0n",
        "colab": {
          "base_uri": "https://localhost:8080/",
          "height": 224
        },
        "outputId": "d36b124f-c19f-4fa8-a5b6-e4f92f2a36e2"
      },
      "source": [
        "# Previewing the top of our dataset\n",
        "#\n",
        "data.head()"
      ],
      "execution_count": 5,
      "outputs": [
        {
          "output_type": "execute_result",
          "data": {
            "text/html": [
              "<div>\n",
              "<style scoped>\n",
              "    .dataframe tbody tr th:only-of-type {\n",
              "        vertical-align: middle;\n",
              "    }\n",
              "\n",
              "    .dataframe tbody tr th {\n",
              "        vertical-align: top;\n",
              "    }\n",
              "\n",
              "    .dataframe thead th {\n",
              "        text-align: right;\n",
              "    }\n",
              "</style>\n",
              "<table border=\"1\" class=\"dataframe\">\n",
              "  <thead>\n",
              "    <tr style=\"text-align: right;\">\n",
              "      <th></th>\n",
              "      <th>word_freq_make</th>\n",
              "      <th>word_freq_address</th>\n",
              "      <th>word_freq_all</th>\n",
              "      <th>word_freq_3d</th>\n",
              "      <th>word_freq_our</th>\n",
              "      <th>word_freq_over</th>\n",
              "      <th>word_freq_remove</th>\n",
              "      <th>word_freq_internet</th>\n",
              "      <th>word_freq_order</th>\n",
              "      <th>word_freq_mail</th>\n",
              "      <th>word_freq_receive</th>\n",
              "      <th>word_freq_will</th>\n",
              "      <th>word_freq_people</th>\n",
              "      <th>word_freq_report</th>\n",
              "      <th>word_freq_addresses</th>\n",
              "      <th>word_freq_free</th>\n",
              "      <th>word_freq_business</th>\n",
              "      <th>word_freq_email</th>\n",
              "      <th>word_freq_you</th>\n",
              "      <th>word_freq_credit</th>\n",
              "      <th>word_freq_your</th>\n",
              "      <th>word_freq_font</th>\n",
              "      <th>word_freq_000</th>\n",
              "      <th>word_freq_money</th>\n",
              "      <th>word_freq_hp</th>\n",
              "      <th>word_freq_hpl</th>\n",
              "      <th>word_freq_george</th>\n",
              "      <th>word_freq_650</th>\n",
              "      <th>word_freq_lab</th>\n",
              "      <th>word_freq_labs</th>\n",
              "      <th>word_freq_telnet</th>\n",
              "      <th>word_freq_857</th>\n",
              "      <th>word_freq_data</th>\n",
              "      <th>word_freq_415</th>\n",
              "      <th>word_freq_85</th>\n",
              "      <th>word_freq_technology</th>\n",
              "      <th>word_freq_1999</th>\n",
              "      <th>word_freq_parts</th>\n",
              "      <th>word_freq_pm</th>\n",
              "      <th>word_freq_direct</th>\n",
              "      <th>word_freq_cs</th>\n",
              "      <th>word_freq_meeting</th>\n",
              "      <th>word_freq_original</th>\n",
              "      <th>word_freq_project</th>\n",
              "      <th>word_freq_re</th>\n",
              "      <th>word_freq_edu</th>\n",
              "      <th>word_freq_table</th>\n",
              "      <th>word_freq_conference</th>\n",
              "      <th>char_freq_;</th>\n",
              "      <th>char_freq_(</th>\n",
              "      <th>char_freq_[</th>\n",
              "      <th>char_freq_!</th>\n",
              "      <th>char_freq_$</th>\n",
              "      <th>char_freq_#</th>\n",
              "      <th>capital_run_length_average</th>\n",
              "      <th>capital_run_length_longest</th>\n",
              "      <th>capital_run_length_total</th>\n",
              "      <th>spam</th>\n",
              "    </tr>\n",
              "  </thead>\n",
              "  <tbody>\n",
              "    <tr>\n",
              "      <th>0</th>\n",
              "      <td>0.00</td>\n",
              "      <td>0.64</td>\n",
              "      <td>0.64</td>\n",
              "      <td>0.0</td>\n",
              "      <td>0.32</td>\n",
              "      <td>0.00</td>\n",
              "      <td>0.00</td>\n",
              "      <td>0.00</td>\n",
              "      <td>0.00</td>\n",
              "      <td>0.00</td>\n",
              "      <td>0.00</td>\n",
              "      <td>0.64</td>\n",
              "      <td>0.00</td>\n",
              "      <td>0.00</td>\n",
              "      <td>0.00</td>\n",
              "      <td>0.32</td>\n",
              "      <td>0.00</td>\n",
              "      <td>1.29</td>\n",
              "      <td>1.93</td>\n",
              "      <td>0.00</td>\n",
              "      <td>0.96</td>\n",
              "      <td>0.0</td>\n",
              "      <td>0.00</td>\n",
              "      <td>0.00</td>\n",
              "      <td>0.0</td>\n",
              "      <td>0.0</td>\n",
              "      <td>0.0</td>\n",
              "      <td>0.0</td>\n",
              "      <td>0.0</td>\n",
              "      <td>0.0</td>\n",
              "      <td>0.0</td>\n",
              "      <td>0.0</td>\n",
              "      <td>0.0</td>\n",
              "      <td>0.0</td>\n",
              "      <td>0.0</td>\n",
              "      <td>0.0</td>\n",
              "      <td>0.00</td>\n",
              "      <td>0.0</td>\n",
              "      <td>0.0</td>\n",
              "      <td>0.00</td>\n",
              "      <td>0.0</td>\n",
              "      <td>0.0</td>\n",
              "      <td>0.00</td>\n",
              "      <td>0.0</td>\n",
              "      <td>0.00</td>\n",
              "      <td>0.00</td>\n",
              "      <td>0.0</td>\n",
              "      <td>0.0</td>\n",
              "      <td>0.00</td>\n",
              "      <td>0.000</td>\n",
              "      <td>0.0</td>\n",
              "      <td>0.778</td>\n",
              "      <td>0.000</td>\n",
              "      <td>0.000</td>\n",
              "      <td>3.756</td>\n",
              "      <td>61</td>\n",
              "      <td>278</td>\n",
              "      <td>1</td>\n",
              "    </tr>\n",
              "    <tr>\n",
              "      <th>1</th>\n",
              "      <td>0.21</td>\n",
              "      <td>0.28</td>\n",
              "      <td>0.50</td>\n",
              "      <td>0.0</td>\n",
              "      <td>0.14</td>\n",
              "      <td>0.28</td>\n",
              "      <td>0.21</td>\n",
              "      <td>0.07</td>\n",
              "      <td>0.00</td>\n",
              "      <td>0.94</td>\n",
              "      <td>0.21</td>\n",
              "      <td>0.79</td>\n",
              "      <td>0.65</td>\n",
              "      <td>0.21</td>\n",
              "      <td>0.14</td>\n",
              "      <td>0.14</td>\n",
              "      <td>0.07</td>\n",
              "      <td>0.28</td>\n",
              "      <td>3.47</td>\n",
              "      <td>0.00</td>\n",
              "      <td>1.59</td>\n",
              "      <td>0.0</td>\n",
              "      <td>0.43</td>\n",
              "      <td>0.43</td>\n",
              "      <td>0.0</td>\n",
              "      <td>0.0</td>\n",
              "      <td>0.0</td>\n",
              "      <td>0.0</td>\n",
              "      <td>0.0</td>\n",
              "      <td>0.0</td>\n",
              "      <td>0.0</td>\n",
              "      <td>0.0</td>\n",
              "      <td>0.0</td>\n",
              "      <td>0.0</td>\n",
              "      <td>0.0</td>\n",
              "      <td>0.0</td>\n",
              "      <td>0.07</td>\n",
              "      <td>0.0</td>\n",
              "      <td>0.0</td>\n",
              "      <td>0.00</td>\n",
              "      <td>0.0</td>\n",
              "      <td>0.0</td>\n",
              "      <td>0.00</td>\n",
              "      <td>0.0</td>\n",
              "      <td>0.00</td>\n",
              "      <td>0.00</td>\n",
              "      <td>0.0</td>\n",
              "      <td>0.0</td>\n",
              "      <td>0.00</td>\n",
              "      <td>0.132</td>\n",
              "      <td>0.0</td>\n",
              "      <td>0.372</td>\n",
              "      <td>0.180</td>\n",
              "      <td>0.048</td>\n",
              "      <td>5.114</td>\n",
              "      <td>101</td>\n",
              "      <td>1028</td>\n",
              "      <td>1</td>\n",
              "    </tr>\n",
              "    <tr>\n",
              "      <th>2</th>\n",
              "      <td>0.06</td>\n",
              "      <td>0.00</td>\n",
              "      <td>0.71</td>\n",
              "      <td>0.0</td>\n",
              "      <td>1.23</td>\n",
              "      <td>0.19</td>\n",
              "      <td>0.19</td>\n",
              "      <td>0.12</td>\n",
              "      <td>0.64</td>\n",
              "      <td>0.25</td>\n",
              "      <td>0.38</td>\n",
              "      <td>0.45</td>\n",
              "      <td>0.12</td>\n",
              "      <td>0.00</td>\n",
              "      <td>1.75</td>\n",
              "      <td>0.06</td>\n",
              "      <td>0.06</td>\n",
              "      <td>1.03</td>\n",
              "      <td>1.36</td>\n",
              "      <td>0.32</td>\n",
              "      <td>0.51</td>\n",
              "      <td>0.0</td>\n",
              "      <td>1.16</td>\n",
              "      <td>0.06</td>\n",
              "      <td>0.0</td>\n",
              "      <td>0.0</td>\n",
              "      <td>0.0</td>\n",
              "      <td>0.0</td>\n",
              "      <td>0.0</td>\n",
              "      <td>0.0</td>\n",
              "      <td>0.0</td>\n",
              "      <td>0.0</td>\n",
              "      <td>0.0</td>\n",
              "      <td>0.0</td>\n",
              "      <td>0.0</td>\n",
              "      <td>0.0</td>\n",
              "      <td>0.00</td>\n",
              "      <td>0.0</td>\n",
              "      <td>0.0</td>\n",
              "      <td>0.06</td>\n",
              "      <td>0.0</td>\n",
              "      <td>0.0</td>\n",
              "      <td>0.12</td>\n",
              "      <td>0.0</td>\n",
              "      <td>0.06</td>\n",
              "      <td>0.06</td>\n",
              "      <td>0.0</td>\n",
              "      <td>0.0</td>\n",
              "      <td>0.01</td>\n",
              "      <td>0.143</td>\n",
              "      <td>0.0</td>\n",
              "      <td>0.276</td>\n",
              "      <td>0.184</td>\n",
              "      <td>0.010</td>\n",
              "      <td>9.821</td>\n",
              "      <td>485</td>\n",
              "      <td>2259</td>\n",
              "      <td>1</td>\n",
              "    </tr>\n",
              "    <tr>\n",
              "      <th>3</th>\n",
              "      <td>0.00</td>\n",
              "      <td>0.00</td>\n",
              "      <td>0.00</td>\n",
              "      <td>0.0</td>\n",
              "      <td>0.63</td>\n",
              "      <td>0.00</td>\n",
              "      <td>0.31</td>\n",
              "      <td>0.63</td>\n",
              "      <td>0.31</td>\n",
              "      <td>0.63</td>\n",
              "      <td>0.31</td>\n",
              "      <td>0.31</td>\n",
              "      <td>0.31</td>\n",
              "      <td>0.00</td>\n",
              "      <td>0.00</td>\n",
              "      <td>0.31</td>\n",
              "      <td>0.00</td>\n",
              "      <td>0.00</td>\n",
              "      <td>3.18</td>\n",
              "      <td>0.00</td>\n",
              "      <td>0.31</td>\n",
              "      <td>0.0</td>\n",
              "      <td>0.00</td>\n",
              "      <td>0.00</td>\n",
              "      <td>0.0</td>\n",
              "      <td>0.0</td>\n",
              "      <td>0.0</td>\n",
              "      <td>0.0</td>\n",
              "      <td>0.0</td>\n",
              "      <td>0.0</td>\n",
              "      <td>0.0</td>\n",
              "      <td>0.0</td>\n",
              "      <td>0.0</td>\n",
              "      <td>0.0</td>\n",
              "      <td>0.0</td>\n",
              "      <td>0.0</td>\n",
              "      <td>0.00</td>\n",
              "      <td>0.0</td>\n",
              "      <td>0.0</td>\n",
              "      <td>0.00</td>\n",
              "      <td>0.0</td>\n",
              "      <td>0.0</td>\n",
              "      <td>0.00</td>\n",
              "      <td>0.0</td>\n",
              "      <td>0.00</td>\n",
              "      <td>0.00</td>\n",
              "      <td>0.0</td>\n",
              "      <td>0.0</td>\n",
              "      <td>0.00</td>\n",
              "      <td>0.137</td>\n",
              "      <td>0.0</td>\n",
              "      <td>0.137</td>\n",
              "      <td>0.000</td>\n",
              "      <td>0.000</td>\n",
              "      <td>3.537</td>\n",
              "      <td>40</td>\n",
              "      <td>191</td>\n",
              "      <td>1</td>\n",
              "    </tr>\n",
              "    <tr>\n",
              "      <th>4</th>\n",
              "      <td>0.00</td>\n",
              "      <td>0.00</td>\n",
              "      <td>0.00</td>\n",
              "      <td>0.0</td>\n",
              "      <td>0.63</td>\n",
              "      <td>0.00</td>\n",
              "      <td>0.31</td>\n",
              "      <td>0.63</td>\n",
              "      <td>0.31</td>\n",
              "      <td>0.63</td>\n",
              "      <td>0.31</td>\n",
              "      <td>0.31</td>\n",
              "      <td>0.31</td>\n",
              "      <td>0.00</td>\n",
              "      <td>0.00</td>\n",
              "      <td>0.31</td>\n",
              "      <td>0.00</td>\n",
              "      <td>0.00</td>\n",
              "      <td>3.18</td>\n",
              "      <td>0.00</td>\n",
              "      <td>0.31</td>\n",
              "      <td>0.0</td>\n",
              "      <td>0.00</td>\n",
              "      <td>0.00</td>\n",
              "      <td>0.0</td>\n",
              "      <td>0.0</td>\n",
              "      <td>0.0</td>\n",
              "      <td>0.0</td>\n",
              "      <td>0.0</td>\n",
              "      <td>0.0</td>\n",
              "      <td>0.0</td>\n",
              "      <td>0.0</td>\n",
              "      <td>0.0</td>\n",
              "      <td>0.0</td>\n",
              "      <td>0.0</td>\n",
              "      <td>0.0</td>\n",
              "      <td>0.00</td>\n",
              "      <td>0.0</td>\n",
              "      <td>0.0</td>\n",
              "      <td>0.00</td>\n",
              "      <td>0.0</td>\n",
              "      <td>0.0</td>\n",
              "      <td>0.00</td>\n",
              "      <td>0.0</td>\n",
              "      <td>0.00</td>\n",
              "      <td>0.00</td>\n",
              "      <td>0.0</td>\n",
              "      <td>0.0</td>\n",
              "      <td>0.00</td>\n",
              "      <td>0.135</td>\n",
              "      <td>0.0</td>\n",
              "      <td>0.135</td>\n",
              "      <td>0.000</td>\n",
              "      <td>0.000</td>\n",
              "      <td>3.537</td>\n",
              "      <td>40</td>\n",
              "      <td>191</td>\n",
              "      <td>1</td>\n",
              "    </tr>\n",
              "  </tbody>\n",
              "</table>\n",
              "</div>"
            ],
            "text/plain": [
              "   word_freq_make  word_freq_address  ...  capital_run_length_total  spam\n",
              "0            0.00               0.64  ...                       278     1\n",
              "1            0.21               0.28  ...                      1028     1\n",
              "2            0.06               0.00  ...                      2259     1\n",
              "3            0.00               0.00  ...                       191     1\n",
              "4            0.00               0.00  ...                       191     1\n",
              "\n",
              "[5 rows x 58 columns]"
            ]
          },
          "metadata": {
            "tags": []
          },
          "execution_count": 5
        }
      ]
    },
    {
      "cell_type": "code",
      "metadata": {
        "id": "n8-dW4sQWzbc",
        "colab": {
          "base_uri": "https://localhost:8080/"
        },
        "outputId": "fe9457e3-34a9-4694-ebaf-509ef6b0f5f7"
      },
      "source": [
        "# Checking whether each column has an appropriate datatype\n",
        "#\n",
        "data.dtypes"
      ],
      "execution_count": 6,
      "outputs": [
        {
          "output_type": "execute_result",
          "data": {
            "text/plain": [
              "word_freq_make                float64\n",
              "word_freq_address             float64\n",
              "word_freq_all                 float64\n",
              "word_freq_3d                  float64\n",
              "word_freq_our                 float64\n",
              "word_freq_over                float64\n",
              "word_freq_remove              float64\n",
              "word_freq_internet            float64\n",
              "word_freq_order               float64\n",
              "word_freq_mail                float64\n",
              "word_freq_receive             float64\n",
              "word_freq_will                float64\n",
              "word_freq_people              float64\n",
              "word_freq_report              float64\n",
              "word_freq_addresses           float64\n",
              "word_freq_free                float64\n",
              "word_freq_business            float64\n",
              "word_freq_email               float64\n",
              "word_freq_you                 float64\n",
              "word_freq_credit              float64\n",
              "word_freq_your                float64\n",
              "word_freq_font                float64\n",
              "word_freq_000                 float64\n",
              "word_freq_money               float64\n",
              "word_freq_hp                  float64\n",
              "word_freq_hpl                 float64\n",
              "word_freq_george              float64\n",
              "word_freq_650                 float64\n",
              "word_freq_lab                 float64\n",
              "word_freq_labs                float64\n",
              "word_freq_telnet              float64\n",
              "word_freq_857                 float64\n",
              "word_freq_data                float64\n",
              "word_freq_415                 float64\n",
              "word_freq_85                  float64\n",
              "word_freq_technology          float64\n",
              "word_freq_1999                float64\n",
              "word_freq_parts               float64\n",
              "word_freq_pm                  float64\n",
              "word_freq_direct              float64\n",
              "word_freq_cs                  float64\n",
              "word_freq_meeting             float64\n",
              "word_freq_original            float64\n",
              "word_freq_project             float64\n",
              "word_freq_re                  float64\n",
              "word_freq_edu                 float64\n",
              "word_freq_table               float64\n",
              "word_freq_conference          float64\n",
              "char_freq_;                   float64\n",
              "char_freq_(                   float64\n",
              "char_freq_[                   float64\n",
              "char_freq_!                   float64\n",
              "char_freq_$                   float64\n",
              "char_freq_#                   float64\n",
              "capital_run_length_average    float64\n",
              "capital_run_length_longest      int64\n",
              "capital_run_length_total        int64\n",
              "spam                            int64\n",
              "dtype: object"
            ]
          },
          "metadata": {
            "tags": []
          },
          "execution_count": 6
        }
      ]
    },
    {
      "cell_type": "markdown",
      "metadata": {
        "id": "ckfufNrcUHeH"
      },
      "source": [
        "## 4. External Data Source Validation"
      ]
    },
    {
      "cell_type": "markdown",
      "metadata": {
        "id": "6XC_g-zKxe-r"
      },
      "source": [
        "### a.Validation"
      ]
    },
    {
      "cell_type": "markdown",
      "metadata": {
        "id": "FlBMxEDBUc9B"
      },
      "source": [
        "## 5. Tidying the Dataset"
      ]
    },
    {
      "cell_type": "code",
      "metadata": {
        "id": "5o_bQcT5W3Wz"
      },
      "source": [
        "# Checking for Outliers\n",
        "\n",
        "#All the frequency data is between 0 and 100, all of the class data is 0 or 1 : so their is no outlier\n"
      ],
      "execution_count": null,
      "outputs": []
    },
    {
      "cell_type": "code",
      "metadata": {
        "id": "PvCYb6dgW4yh",
        "colab": {
          "base_uri": "https://localhost:8080/"
        },
        "outputId": "ef6d7e8c-7302-4c6e-9dae-09449b56c8f1"
      },
      "source": [
        "# Identifying the Missing Data\n",
        "#\n",
        "data.isnull().any().any()"
      ],
      "execution_count": 9,
      "outputs": [
        {
          "output_type": "execute_result",
          "data": {
            "text/plain": [
              "False"
            ]
          },
          "metadata": {
            "tags": []
          },
          "execution_count": 9
        }
      ]
    },
    {
      "cell_type": "code",
      "metadata": {
        "id": "D-4I__6Os4C5",
        "colab": {
          "base_uri": "https://localhost:8080/"
        },
        "outputId": "7ef30c02-024d-4377-f2b6-42bddd60f7e3"
      },
      "source": [
        "# More data cleaning procedures\n",
        "#\n",
        "data.duplicated().sum()"
      ],
      "execution_count": 12,
      "outputs": [
        {
          "output_type": "execute_result",
          "data": {
            "text/plain": [
              "391"
            ]
          },
          "metadata": {
            "tags": []
          },
          "execution_count": 12
        }
      ]
    },
    {
      "cell_type": "code",
      "metadata": {
        "id": "X9ErSLLu8l2_"
      },
      "source": [
        "# Dropping duplicates\n",
        "# \n",
        "data = data.drop_duplicates()"
      ],
      "execution_count": 15,
      "outputs": []
    },
    {
      "cell_type": "markdown",
      "metadata": {
        "id": "rF2ABPsHUtbZ"
      },
      "source": [
        "## 6. Exploratory Analysis"
      ]
    },
    {
      "cell_type": "code",
      "metadata": {
        "id": "5nnRToniXGDK",
        "colab": {
          "base_uri": "https://localhost:8080/",
          "height": 264
        },
        "outputId": "059c1268-9bbe-4535-cce5-1032189118ff"
      },
      "source": [
        "# Ploting the bivariate summaries and recording our observations\n",
        "#\n",
        "#Create a pie chart to indicate the amount of spam mails\n",
        "column= data.spam.value_counts()\n",
        "\n",
        "\n",
        "# accessing the data to plot\n",
        "\n",
        "# labels\n",
        "label= ['Not Spam', 'Spam']\n",
        "# values\n",
        "value = column.values\n",
        "\n",
        "# plotting the pie chart\n",
        "plt.pie(value, labels = label, autopct = '%1.1f%%', shadow = True, explode = (0.1,0), startangle = 90)\n",
        "plt.axis('equal')\n",
        "plt.title('A Pie Chart of Spam Data')\n",
        "plt.show()"
      ],
      "execution_count": 19,
      "outputs": [
        {
          "output_type": "display_data",
          "data": {
            "image/png": "[encoded data removed]",
            "text/plain": [
              "<Figure size 432x288 with 1 Axes>"
            ]
          },
          "metadata": {
            "tags": []
          }
        }
      ]
    },
    {
      "cell_type": "code",
      "metadata": {
        "colab": {
          "base_uri": "https://localhost:8080/",
          "height": 1000
        },
        "id": "MDs0Pkit-X2i",
        "outputId": "4caf1722-2abc-4bb9-9d10-8b434c3c79f4"
      },
      "source": [
        "data.describe().T\n"
      ],
      "execution_count": 20,
      "outputs": [
        {
          "output_type": "execute_result",
          "data": {
            "text/html": [
              "<div>\n",
              "<style scoped>\n",
              "    .dataframe tbody tr th:only-of-type {\n",
              "        vertical-align: middle;\n",
              "    }\n",
              "\n",
              "    .dataframe tbody tr th {\n",
              "        vertical-align: top;\n",
              "    }\n",
              "\n",
              "    .dataframe thead th {\n",
              "        text-align: right;\n",
              "    }\n",
              "</style>\n",
              "<table border=\"1\" class=\"dataframe\">\n",
              "  <thead>\n",
              "    <tr style=\"text-align: right;\">\n",
              "      <th></th>\n",
              "      <th>count</th>\n",
              "      <th>mean</th>\n",
              "      <th>std</th>\n",
              "      <th>min</th>\n",
              "      <th>25%</th>\n",
              "      <th>50%</th>\n",
              "      <th>75%</th>\n",
              "      <th>max</th>\n",
              "    </tr>\n",
              "  </thead>\n",
              "  <tbody>\n",
              "    <tr>\n",
              "      <th>word_freq_make</th>\n",
              "      <td>4210.0</td>\n",
              "      <td>0.104366</td>\n",
              "      <td>0.300005</td>\n",
              "      <td>0.0</td>\n",
              "      <td>0.0000</td>\n",
              "      <td>0.000</td>\n",
              "      <td>0.00000</td>\n",
              "      <td>4.540</td>\n",
              "    </tr>\n",
              "    <tr>\n",
              "      <th>word_freq_address</th>\n",
              "      <td>4210.0</td>\n",
              "      <td>0.112656</td>\n",
              "      <td>0.454260</td>\n",
              "      <td>0.0</td>\n",
              "      <td>0.0000</td>\n",
              "      <td>0.000</td>\n",
              "      <td>0.00000</td>\n",
              "      <td>14.280</td>\n",
              "    </tr>\n",
              "    <tr>\n",
              "      <th>word_freq_all</th>\n",
              "      <td>4210.0</td>\n",
              "      <td>0.291473</td>\n",
              "      <td>0.515719</td>\n",
              "      <td>0.0</td>\n",
              "      <td>0.0000</td>\n",
              "      <td>0.000</td>\n",
              "      <td>0.44000</td>\n",
              "      <td>5.100</td>\n",
              "    </tr>\n",
              "    <tr>\n",
              "      <th>word_freq_3d</th>\n",
              "      <td>4210.0</td>\n",
              "      <td>0.063078</td>\n",
              "      <td>1.352487</td>\n",
              "      <td>0.0</td>\n",
              "      <td>0.0000</td>\n",
              "      <td>0.000</td>\n",
              "      <td>0.00000</td>\n",
              "      <td>42.810</td>\n",
              "    </tr>\n",
              "    <tr>\n",
              "      <th>word_freq_our</th>\n",
              "      <td>4210.0</td>\n",
              "      <td>0.325321</td>\n",
              "      <td>0.687805</td>\n",
              "      <td>0.0</td>\n",
              "      <td>0.0000</td>\n",
              "      <td>0.000</td>\n",
              "      <td>0.41000</td>\n",
              "      <td>10.000</td>\n",
              "    </tr>\n",
              "    <tr>\n",
              "      <th>word_freq_over</th>\n",
              "      <td>4210.0</td>\n",
              "      <td>0.096656</td>\n",
              "      <td>0.276030</td>\n",
              "      <td>0.0</td>\n",
              "      <td>0.0000</td>\n",
              "      <td>0.000</td>\n",
              "      <td>0.00000</td>\n",
              "      <td>5.880</td>\n",
              "    </tr>\n",
              "    <tr>\n",
              "      <th>word_freq_remove</th>\n",
              "      <td>4210.0</td>\n",
              "      <td>0.117475</td>\n",
              "      <td>0.397284</td>\n",
              "      <td>0.0</td>\n",
              "      <td>0.0000</td>\n",
              "      <td>0.000</td>\n",
              "      <td>0.00000</td>\n",
              "      <td>7.270</td>\n",
              "    </tr>\n",
              "    <tr>\n",
              "      <th>word_freq_internet</th>\n",
              "      <td>4210.0</td>\n",
              "      <td>0.108000</td>\n",
              "      <td>0.410282</td>\n",
              "      <td>0.0</td>\n",
              "      <td>0.0000</td>\n",
              "      <td>0.000</td>\n",
              "      <td>0.00000</td>\n",
              "      <td>11.110</td>\n",
              "    </tr>\n",
              "    <tr>\n",
              "      <th>word_freq_order</th>\n",
              "      <td>4210.0</td>\n",
              "      <td>0.091860</td>\n",
              "      <td>0.282144</td>\n",
              "      <td>0.0</td>\n",
              "      <td>0.0000</td>\n",
              "      <td>0.000</td>\n",
              "      <td>0.00000</td>\n",
              "      <td>5.260</td>\n",
              "    </tr>\n",
              "    <tr>\n",
              "      <th>word_freq_mail</th>\n",
              "      <td>4210.0</td>\n",
              "      <td>0.248420</td>\n",
              "      <td>0.656638</td>\n",
              "      <td>0.0</td>\n",
              "      <td>0.0000</td>\n",
              "      <td>0.000</td>\n",
              "      <td>0.19000</td>\n",
              "      <td>18.180</td>\n",
              "    </tr>\n",
              "    <tr>\n",
              "      <th>word_freq_receive</th>\n",
              "      <td>4210.0</td>\n",
              "      <td>0.056686</td>\n",
              "      <td>0.184167</td>\n",
              "      <td>0.0</td>\n",
              "      <td>0.0000</td>\n",
              "      <td>0.000</td>\n",
              "      <td>0.00000</td>\n",
              "      <td>2.610</td>\n",
              "    </tr>\n",
              "    <tr>\n",
              "      <th>word_freq_will</th>\n",
              "      <td>4210.0</td>\n",
              "      <td>0.565204</td>\n",
              "      <td>0.882513</td>\n",
              "      <td>0.0</td>\n",
              "      <td>0.0000</td>\n",
              "      <td>0.190</td>\n",
              "      <td>0.83000</td>\n",
              "      <td>9.670</td>\n",
              "    </tr>\n",
              "    <tr>\n",
              "      <th>word_freq_people</th>\n",
              "      <td>4210.0</td>\n",
              "      <td>0.097656</td>\n",
              "      <td>0.309309</td>\n",
              "      <td>0.0</td>\n",
              "      <td>0.0000</td>\n",
              "      <td>0.000</td>\n",
              "      <td>0.00000</td>\n",
              "      <td>5.550</td>\n",
              "    </tr>\n",
              "    <tr>\n",
              "      <th>word_freq_report</th>\n",
              "      <td>4210.0</td>\n",
              "      <td>0.061211</td>\n",
              "      <td>0.346066</td>\n",
              "      <td>0.0</td>\n",
              "      <td>0.0000</td>\n",
              "      <td>0.000</td>\n",
              "      <td>0.00000</td>\n",
              "      <td>10.000</td>\n",
              "    </tr>\n",
              "    <tr>\n",
              "      <th>word_freq_addresses</th>\n",
              "      <td>4210.0</td>\n",
              "      <td>0.044803</td>\n",
              "      <td>0.242186</td>\n",
              "      <td>0.0</td>\n",
              "      <td>0.0000</td>\n",
              "      <td>0.000</td>\n",
              "      <td>0.00000</td>\n",
              "      <td>4.410</td>\n",
              "    </tr>\n",
              "    <tr>\n",
              "      <th>word_freq_free</th>\n",
              "      <td>4210.0</td>\n",
              "      <td>0.253829</td>\n",
              "      <td>0.797534</td>\n",
              "      <td>0.0</td>\n",
              "      <td>0.0000</td>\n",
              "      <td>0.000</td>\n",
              "      <td>0.12750</td>\n",
              "      <td>20.000</td>\n",
              "    </tr>\n",
              "    <tr>\n",
              "      <th>word_freq_business</th>\n",
              "      <td>4210.0</td>\n",
              "      <td>0.149154</td>\n",
              "      <td>0.457669</td>\n",
              "      <td>0.0</td>\n",
              "      <td>0.0000</td>\n",
              "      <td>0.000</td>\n",
              "      <td>0.00000</td>\n",
              "      <td>7.140</td>\n",
              "    </tr>\n",
              "    <tr>\n",
              "      <th>word_freq_email</th>\n",
              "      <td>4210.0</td>\n",
              "      <td>0.188755</td>\n",
              "      <td>0.541133</td>\n",
              "      <td>0.0</td>\n",
              "      <td>0.0000</td>\n",
              "      <td>0.000</td>\n",
              "      <td>0.00000</td>\n",
              "      <td>9.090</td>\n",
              "    </tr>\n",
              "    <tr>\n",
              "      <th>word_freq_you</th>\n",
              "      <td>4210.0</td>\n",
              "      <td>1.718368</td>\n",
              "      <td>1.768760</td>\n",
              "      <td>0.0</td>\n",
              "      <td>0.0000</td>\n",
              "      <td>1.360</td>\n",
              "      <td>2.72000</td>\n",
              "      <td>18.750</td>\n",
              "    </tr>\n",
              "    <tr>\n",
              "      <th>word_freq_credit</th>\n",
              "      <td>4210.0</td>\n",
              "      <td>0.084962</td>\n",
              "      <td>0.505583</td>\n",
              "      <td>0.0</td>\n",
              "      <td>0.0000</td>\n",
              "      <td>0.000</td>\n",
              "      <td>0.00000</td>\n",
              "      <td>18.180</td>\n",
              "    </tr>\n",
              "    <tr>\n",
              "      <th>word_freq_your</th>\n",
              "      <td>4210.0</td>\n",
              "      <td>0.810040</td>\n",
              "      <td>1.149352</td>\n",
              "      <td>0.0</td>\n",
              "      <td>0.0000</td>\n",
              "      <td>0.290</td>\n",
              "      <td>1.28000</td>\n",
              "      <td>11.110</td>\n",
              "    </tr>\n",
              "    <tr>\n",
              "      <th>word_freq_font</th>\n",
              "      <td>4210.0</td>\n",
              "      <td>0.131587</td>\n",
              "      <td>1.071258</td>\n",
              "      <td>0.0</td>\n",
              "      <td>0.0000</td>\n",
              "      <td>0.000</td>\n",
              "      <td>0.00000</td>\n",
              "      <td>17.100</td>\n",
              "    </tr>\n",
              "    <tr>\n",
              "      <th>word_freq_000</th>\n",
              "      <td>4210.0</td>\n",
              "      <td>0.100622</td>\n",
              "      <td>0.351336</td>\n",
              "      <td>0.0</td>\n",
              "      <td>0.0000</td>\n",
              "      <td>0.000</td>\n",
              "      <td>0.00000</td>\n",
              "      <td>5.450</td>\n",
              "    </tr>\n",
              "    <tr>\n",
              "      <th>word_freq_money</th>\n",
              "      <td>4210.0</td>\n",
              "      <td>0.090969</td>\n",
              "      <td>0.431723</td>\n",
              "      <td>0.0</td>\n",
              "      <td>0.0000</td>\n",
              "      <td>0.000</td>\n",
              "      <td>0.00000</td>\n",
              "      <td>12.500</td>\n",
              "    </tr>\n",
              "    <tr>\n",
              "      <th>word_freq_hp</th>\n",
              "      <td>4210.0</td>\n",
              "      <td>0.573995</td>\n",
              "      <td>1.676539</td>\n",
              "      <td>0.0</td>\n",
              "      <td>0.0000</td>\n",
              "      <td>0.000</td>\n",
              "      <td>0.09750</td>\n",
              "      <td>20.830</td>\n",
              "    </tr>\n",
              "    <tr>\n",
              "      <th>word_freq_hpl</th>\n",
              "      <td>4210.0</td>\n",
              "      <td>0.279330</td>\n",
              "      <td>0.905553</td>\n",
              "      <td>0.0</td>\n",
              "      <td>0.0000</td>\n",
              "      <td>0.000</td>\n",
              "      <td>0.00000</td>\n",
              "      <td>16.660</td>\n",
              "    </tr>\n",
              "    <tr>\n",
              "      <th>word_freq_george</th>\n",
              "      <td>4210.0</td>\n",
              "      <td>0.369838</td>\n",
              "      <td>1.775330</td>\n",
              "      <td>0.0</td>\n",
              "      <td>0.0000</td>\n",
              "      <td>0.000</td>\n",
              "      <td>0.00000</td>\n",
              "      <td>33.330</td>\n",
              "    </tr>\n",
              "    <tr>\n",
              "      <th>word_freq_650</th>\n",
              "      <td>4210.0</td>\n",
              "      <td>0.128575</td>\n",
              "      <td>0.535429</td>\n",
              "      <td>0.0</td>\n",
              "      <td>0.0000</td>\n",
              "      <td>0.000</td>\n",
              "      <td>0.00000</td>\n",
              "      <td>9.090</td>\n",
              "    </tr>\n",
              "    <tr>\n",
              "      <th>word_freq_lab</th>\n",
              "      <td>4210.0</td>\n",
              "      <td>0.098382</td>\n",
              "      <td>0.576796</td>\n",
              "      <td>0.0</td>\n",
              "      <td>0.0000</td>\n",
              "      <td>0.000</td>\n",
              "      <td>0.00000</td>\n",
              "      <td>14.280</td>\n",
              "    </tr>\n",
              "    <tr>\n",
              "      <th>word_freq_labs</th>\n",
              "      <td>4210.0</td>\n",
              "      <td>0.103779</td>\n",
              "      <td>0.439568</td>\n",
              "      <td>0.0</td>\n",
              "      <td>0.0000</td>\n",
              "      <td>0.000</td>\n",
              "      <td>0.00000</td>\n",
              "      <td>5.880</td>\n",
              "    </tr>\n",
              "    <tr>\n",
              "      <th>word_freq_telnet</th>\n",
              "      <td>4210.0</td>\n",
              "      <td>0.063544</td>\n",
              "      <td>0.387267</td>\n",
              "      <td>0.0</td>\n",
              "      <td>0.0000</td>\n",
              "      <td>0.000</td>\n",
              "      <td>0.00000</td>\n",
              "      <td>12.500</td>\n",
              "    </tr>\n",
              "    <tr>\n",
              "      <th>word_freq_857</th>\n",
              "      <td>4210.0</td>\n",
              "      <td>0.044917</td>\n",
              "      <td>0.300748</td>\n",
              "      <td>0.0</td>\n",
              "      <td>0.0000</td>\n",
              "      <td>0.000</td>\n",
              "      <td>0.00000</td>\n",
              "      <td>4.760</td>\n",
              "    </tr>\n",
              "    <tr>\n",
              "      <th>word_freq_data</th>\n",
              "      <td>4210.0</td>\n",
              "      <td>0.102333</td>\n",
              "      <td>0.569146</td>\n",
              "      <td>0.0</td>\n",
              "      <td>0.0000</td>\n",
              "      <td>0.000</td>\n",
              "      <td>0.00000</td>\n",
              "      <td>18.180</td>\n",
              "    </tr>\n",
              "    <tr>\n",
              "      <th>word_freq_415</th>\n",
              "      <td>4210.0</td>\n",
              "      <td>0.045777</td>\n",
              "      <td>0.301812</td>\n",
              "      <td>0.0</td>\n",
              "      <td>0.0000</td>\n",
              "      <td>0.000</td>\n",
              "      <td>0.00000</td>\n",
              "      <td>4.760</td>\n",
              "    </tr>\n",
              "    <tr>\n",
              "      <th>word_freq_85</th>\n",
              "      <td>4210.0</td>\n",
              "      <td>0.107881</td>\n",
              "      <td>0.530263</td>\n",
              "      <td>0.0</td>\n",
              "      <td>0.0000</td>\n",
              "      <td>0.000</td>\n",
              "      <td>0.00000</td>\n",
              "      <td>20.000</td>\n",
              "    </tr>\n",
              "    <tr>\n",
              "      <th>word_freq_technology</th>\n",
              "      <td>4210.0</td>\n",
              "      <td>0.099368</td>\n",
              "      <td>0.386470</td>\n",
              "      <td>0.0</td>\n",
              "      <td>0.0000</td>\n",
              "      <td>0.000</td>\n",
              "      <td>0.00000</td>\n",
              "      <td>7.690</td>\n",
              "    </tr>\n",
              "    <tr>\n",
              "      <th>word_freq_1999</th>\n",
              "      <td>4210.0</td>\n",
              "      <td>0.143482</td>\n",
              "      <td>0.424508</td>\n",
              "      <td>0.0</td>\n",
              "      <td>0.0000</td>\n",
              "      <td>0.000</td>\n",
              "      <td>0.00000</td>\n",
              "      <td>6.890</td>\n",
              "    </tr>\n",
              "    <tr>\n",
              "      <th>word_freq_parts</th>\n",
              "      <td>4210.0</td>\n",
              "      <td>0.014190</td>\n",
              "      <td>0.230512</td>\n",
              "      <td>0.0</td>\n",
              "      <td>0.0000</td>\n",
              "      <td>0.000</td>\n",
              "      <td>0.00000</td>\n",
              "      <td>8.330</td>\n",
              "    </tr>\n",
              "    <tr>\n",
              "      <th>word_freq_pm</th>\n",
              "      <td>4210.0</td>\n",
              "      <td>0.084057</td>\n",
              "      <td>0.447991</td>\n",
              "      <td>0.0</td>\n",
              "      <td>0.0000</td>\n",
              "      <td>0.000</td>\n",
              "      <td>0.00000</td>\n",
              "      <td>11.110</td>\n",
              "    </tr>\n",
              "    <tr>\n",
              "      <th>word_freq_direct</th>\n",
              "      <td>4210.0</td>\n",
              "      <td>0.061278</td>\n",
              "      <td>0.319520</td>\n",
              "      <td>0.0</td>\n",
              "      <td>0.0000</td>\n",
              "      <td>0.000</td>\n",
              "      <td>0.00000</td>\n",
              "      <td>4.760</td>\n",
              "    </tr>\n",
              "    <tr>\n",
              "      <th>word_freq_cs</th>\n",
              "      <td>4210.0</td>\n",
              "      <td>0.041432</td>\n",
              "      <td>0.318177</td>\n",
              "      <td>0.0</td>\n",
              "      <td>0.0000</td>\n",
              "      <td>0.000</td>\n",
              "      <td>0.00000</td>\n",
              "      <td>7.140</td>\n",
              "    </tr>\n",
              "    <tr>\n",
              "      <th>word_freq_meeting</th>\n",
              "      <td>4210.0</td>\n",
              "      <td>0.141542</td>\n",
              "      <td>0.793803</td>\n",
              "      <td>0.0</td>\n",
              "      <td>0.0000</td>\n",
              "      <td>0.000</td>\n",
              "      <td>0.00000</td>\n",
              "      <td>14.280</td>\n",
              "    </tr>\n",
              "    <tr>\n",
              "      <th>word_freq_original</th>\n",
              "      <td>4210.0</td>\n",
              "      <td>0.048772</td>\n",
              "      <td>0.231871</td>\n",
              "      <td>0.0</td>\n",
              "      <td>0.0000</td>\n",
              "      <td>0.000</td>\n",
              "      <td>0.00000</td>\n",
              "      <td>3.570</td>\n",
              "    </tr>\n",
              "    <tr>\n",
              "      <th>word_freq_project</th>\n",
              "      <td>4210.0</td>\n",
              "      <td>0.085266</td>\n",
              "      <td>0.646096</td>\n",
              "      <td>0.0</td>\n",
              "      <td>0.0000</td>\n",
              "      <td>0.000</td>\n",
              "      <td>0.00000</td>\n",
              "      <td>20.000</td>\n",
              "    </tr>\n",
              "    <tr>\n",
              "      <th>word_freq_re</th>\n",
              "      <td>4210.0</td>\n",
              "      <td>0.320124</td>\n",
              "      <td>1.045914</td>\n",
              "      <td>0.0</td>\n",
              "      <td>0.0000</td>\n",
              "      <td>0.000</td>\n",
              "      <td>0.17000</td>\n",
              "      <td>21.420</td>\n",
              "    </tr>\n",
              "    <tr>\n",
              "      <th>word_freq_edu</th>\n",
              "      <td>4210.0</td>\n",
              "      <td>0.189375</td>\n",
              "      <td>0.928308</td>\n",
              "      <td>0.0</td>\n",
              "      <td>0.0000</td>\n",
              "      <td>0.000</td>\n",
              "      <td>0.00000</td>\n",
              "      <td>22.050</td>\n",
              "    </tr>\n",
              "    <tr>\n",
              "      <th>word_freq_table</th>\n",
              "      <td>4210.0</td>\n",
              "      <td>0.005786</td>\n",
              "      <td>0.079170</td>\n",
              "      <td>0.0</td>\n",
              "      <td>0.0000</td>\n",
              "      <td>0.000</td>\n",
              "      <td>0.00000</td>\n",
              "      <td>2.170</td>\n",
              "    </tr>\n",
              "    <tr>\n",
              "      <th>word_freq_conference</th>\n",
              "      <td>4210.0</td>\n",
              "      <td>0.034746</td>\n",
              "      <td>0.298521</td>\n",
              "      <td>0.0</td>\n",
              "      <td>0.0000</td>\n",
              "      <td>0.000</td>\n",
              "      <td>0.00000</td>\n",
              "      <td>10.000</td>\n",
              "    </tr>\n",
              "    <tr>\n",
              "      <th>char_freq_;</th>\n",
              "      <td>4210.0</td>\n",
              "      <td>0.040403</td>\n",
              "      <td>0.252533</td>\n",
              "      <td>0.0</td>\n",
              "      <td>0.0000</td>\n",
              "      <td>0.000</td>\n",
              "      <td>0.00000</td>\n",
              "      <td>4.385</td>\n",
              "    </tr>\n",
              "    <tr>\n",
              "      <th>char_freq_(</th>\n",
              "      <td>4210.0</td>\n",
              "      <td>0.144048</td>\n",
              "      <td>0.274256</td>\n",
              "      <td>0.0</td>\n",
              "      <td>0.0000</td>\n",
              "      <td>0.073</td>\n",
              "      <td>0.19400</td>\n",
              "      <td>9.752</td>\n",
              "    </tr>\n",
              "    <tr>\n",
              "      <th>char_freq_[</th>\n",
              "      <td>4210.0</td>\n",
              "      <td>0.017376</td>\n",
              "      <td>0.105731</td>\n",
              "      <td>0.0</td>\n",
              "      <td>0.0000</td>\n",
              "      <td>0.000</td>\n",
              "      <td>0.00000</td>\n",
              "      <td>4.081</td>\n",
              "    </tr>\n",
              "    <tr>\n",
              "      <th>char_freq_!</th>\n",
              "      <td>4210.0</td>\n",
              "      <td>0.281136</td>\n",
              "      <td>0.843321</td>\n",
              "      <td>0.0</td>\n",
              "      <td>0.0000</td>\n",
              "      <td>0.016</td>\n",
              "      <td>0.33100</td>\n",
              "      <td>32.478</td>\n",
              "    </tr>\n",
              "    <tr>\n",
              "      <th>char_freq_$</th>\n",
              "      <td>4210.0</td>\n",
              "      <td>0.076057</td>\n",
              "      <td>0.239708</td>\n",
              "      <td>0.0</td>\n",
              "      <td>0.0000</td>\n",
              "      <td>0.000</td>\n",
              "      <td>0.05300</td>\n",
              "      <td>6.003</td>\n",
              "    </tr>\n",
              "    <tr>\n",
              "      <th>char_freq_#</th>\n",
              "      <td>4210.0</td>\n",
              "      <td>0.045798</td>\n",
              "      <td>0.435925</td>\n",
              "      <td>0.0</td>\n",
              "      <td>0.0000</td>\n",
              "      <td>0.000</td>\n",
              "      <td>0.00000</td>\n",
              "      <td>19.829</td>\n",
              "    </tr>\n",
              "    <tr>\n",
              "      <th>capital_run_length_average</th>\n",
              "      <td>4210.0</td>\n",
              "      <td>5.383896</td>\n",
              "      <td>33.147358</td>\n",
              "      <td>1.0</td>\n",
              "      <td>1.6275</td>\n",
              "      <td>2.297</td>\n",
              "      <td>3.70675</td>\n",
              "      <td>1102.500</td>\n",
              "    </tr>\n",
              "    <tr>\n",
              "      <th>capital_run_length_longest</th>\n",
              "      <td>4210.0</td>\n",
              "      <td>52.139905</td>\n",
              "      <td>199.582168</td>\n",
              "      <td>1.0</td>\n",
              "      <td>7.0000</td>\n",
              "      <td>15.000</td>\n",
              "      <td>44.00000</td>\n",
              "      <td>9989.000</td>\n",
              "    </tr>\n",
              "    <tr>\n",
              "      <th>capital_run_length_total</th>\n",
              "      <td>4210.0</td>\n",
              "      <td>291.181948</td>\n",
              "      <td>618.654838</td>\n",
              "      <td>1.0</td>\n",
              "      <td>40.0000</td>\n",
              "      <td>101.500</td>\n",
              "      <td>273.75000</td>\n",
              "      <td>15841.000</td>\n",
              "    </tr>\n",
              "    <tr>\n",
              "      <th>spam</th>\n",
              "      <td>4210.0</td>\n",
              "      <td>0.398812</td>\n",
              "      <td>0.489712</td>\n",
              "      <td>0.0</td>\n",
              "      <td>0.0000</td>\n",
              "      <td>0.000</td>\n",
              "      <td>1.00000</td>\n",
              "      <td>1.000</td>\n",
              "    </tr>\n",
              "  </tbody>\n",
              "</table>\n",
              "</div>"
            ],
            "text/plain": [
              "                             count        mean  ...        75%        max\n",
              "word_freq_make              4210.0    0.104366  ...    0.00000      4.540\n",
              "word_freq_address           4210.0    0.112656  ...    0.00000     14.280\n",
              "word_freq_all               4210.0    0.291473  ...    0.44000      5.100\n",
              "word_freq_3d                4210.0    0.063078  ...    0.00000     42.810\n",
              "word_freq_our               4210.0    0.325321  ...    0.41000     10.000\n",
              "word_freq_over              4210.0    0.096656  ...    0.00000      5.880\n",
              "word_freq_remove            4210.0    0.117475  ...    0.00000      7.270\n",
              "word_freq_internet          4210.0    0.108000  ...    0.00000     11.110\n",
              "word_freq_order             4210.0    0.091860  ...    0.00000      5.260\n",
              "word_freq_mail              4210.0    0.248420  ...    0.19000     18.180\n",
              "word_freq_receive           4210.0    0.056686  ...    0.00000      2.610\n",
              "word_freq_will              4210.0    0.565204  ...    0.83000      9.670\n",
              "word_freq_people            4210.0    0.097656  ...    0.00000      5.550\n",
              "word_freq_report            4210.0    0.061211  ...    0.00000     10.000\n",
              "word_freq_addresses         4210.0    0.044803  ...    0.00000      4.410\n",
              "word_freq_free              4210.0    0.253829  ...    0.12750     20.000\n",
              "word_freq_business          4210.0    0.149154  ...    0.00000      7.140\n",
              "word_freq_email             4210.0    0.188755  ...    0.00000      9.090\n",
              "word_freq_you               4210.0    1.718368  ...    2.72000     18.750\n",
              "word_freq_credit            4210.0    0.084962  ...    0.00000     18.180\n",
              "word_freq_your              4210.0    0.810040  ...    1.28000     11.110\n",
              "word_freq_font              4210.0    0.131587  ...    0.00000     17.100\n",
              "word_freq_000               4210.0    0.100622  ...    0.00000      5.450\n",
              "word_freq_money             4210.0    0.090969  ...    0.00000     12.500\n",
              "word_freq_hp                4210.0    0.573995  ...    0.09750     20.830\n",
              "word_freq_hpl               4210.0    0.279330  ...    0.00000     16.660\n",
              "word_freq_george            4210.0    0.369838  ...    0.00000     33.330\n",
              "word_freq_650               4210.0    0.128575  ...    0.00000      9.090\n",
              "word_freq_lab               4210.0    0.098382  ...    0.00000     14.280\n",
              "word_freq_labs              4210.0    0.103779  ...    0.00000      5.880\n",
              "word_freq_telnet            4210.0    0.063544  ...    0.00000     12.500\n",
              "word_freq_857               4210.0    0.044917  ...    0.00000      4.760\n",
              "word_freq_data              4210.0    0.102333  ...    0.00000     18.180\n",
              "word_freq_415               4210.0    0.045777  ...    0.00000      4.760\n",
              "word_freq_85                4210.0    0.107881  ...    0.00000     20.000\n",
              "word_freq_technology        4210.0    0.099368  ...    0.00000      7.690\n",
              "word_freq_1999              4210.0    0.143482  ...    0.00000      6.890\n",
              "word_freq_parts             4210.0    0.014190  ...    0.00000      8.330\n",
              "word_freq_pm                4210.0    0.084057  ...    0.00000     11.110\n",
              "word_freq_direct            4210.0    0.061278  ...    0.00000      4.760\n",
              "word_freq_cs                4210.0    0.041432  ...    0.00000      7.140\n",
              "word_freq_meeting           4210.0    0.141542  ...    0.00000     14.280\n",
              "word_freq_original          4210.0    0.048772  ...    0.00000      3.570\n",
              "word_freq_project           4210.0    0.085266  ...    0.00000     20.000\n",
              "word_freq_re                4210.0    0.320124  ...    0.17000     21.420\n",
              "word_freq_edu               4210.0    0.189375  ...    0.00000     22.050\n",
              "word_freq_table             4210.0    0.005786  ...    0.00000      2.170\n",
              "word_freq_conference        4210.0    0.034746  ...    0.00000     10.000\n",
              "char_freq_;                 4210.0    0.040403  ...    0.00000      4.385\n",
              "char_freq_(                 4210.0    0.144048  ...    0.19400      9.752\n",
              "char_freq_[                 4210.0    0.017376  ...    0.00000      4.081\n",
              "char_freq_!                 4210.0    0.281136  ...    0.33100     32.478\n",
              "char_freq_$                 4210.0    0.076057  ...    0.05300      6.003\n",
              "char_freq_#                 4210.0    0.045798  ...    0.00000     19.829\n",
              "capital_run_length_average  4210.0    5.383896  ...    3.70675   1102.500\n",
              "capital_run_length_longest  4210.0   52.139905  ...   44.00000   9989.000\n",
              "capital_run_length_total    4210.0  291.181948  ...  273.75000  15841.000\n",
              "spam                        4210.0    0.398812  ...    1.00000      1.000\n",
              "\n",
              "[58 rows x 8 columns]"
            ]
          },
          "metadata": {
            "tags": []
          },
          "execution_count": 20
        }
      ]
    },
    {
      "cell_type": "code",
      "metadata": {
        "colab": {
          "base_uri": "https://localhost:8080/",
          "height": 845
        },
        "id": "GTF2yqdD-3zJ",
        "outputId": "d6be97ef-1587-4d92-e481-2d9807edb109"
      },
      "source": [
        "# Correlatin\n",
        "corr=data.corr()\n",
        "plt.figure(figsize=(16, 12))\n",
        "ax=sns.heatmap(corr,\n",
        "            xticklabels=corr.columns,\n",
        "            yticklabels=corr.columns,\n",
        "            cmap=sns.diverging_palette(220, 10, as_cmap=True),\n",
        "            square=True,\n",
        "            linewidths=.1)\n",
        "ax.set(title=\"all variables correlation heatmap\");"
      ],
      "execution_count": 21,
      "outputs": [
        {
          "output_type": "display_data",
          "data": {
            "image/png": "[encoded data removed]",
            "text/plain": [
              "<Figure size 1152x864 with 2 Axes>"
            ]
          },
          "metadata": {
            "tags": [],
            "needs_background": "light"
          }
        }
      ]
    },
    {
      "cell_type": "markdown",
      "metadata": {
        "id": "vTbdjSrhVIiT"
      },
      "source": [
        "## 7. Implementing the Solution"
      ]
    },
    {
      "cell_type": "markdown",
      "metadata": {
        "id": "COPN0qjzERb_"
      },
      "source": [
        "### Part 1 : 80-20 Split"
      ]
    },
    {
      "cell_type": "code",
      "metadata": {
        "id": "PJLZaRzJXJ3w"
      },
      "source": [
        "# Implementing the Solution\n",
        "# Using Gaussian Naiva bayes Classifier \n",
        "\n",
        "\n",
        "X = data.drop('spam',axis=1)\n",
        "y = data['spam']"
      ],
      "execution_count": 23,
      "outputs": []
    },
    {
      "cell_type": "code",
      "metadata": {
        "id": "HCd_LtBNCDMo"
      },
      "source": [
        "# \n",
        "from sklearn.model_selection import train_test_split\n",
        "# Splitting our data into a training set and a test set\n",
        "# \n",
        "X_train, X_test, y_train, y_test = train_test_split(X, y, test_size=0.2, random_state=6)"
      ],
      "execution_count": 25,
      "outputs": []
    },
    {
      "cell_type": "code",
      "metadata": {
        "id": "Pp6oZ4sFExV5"
      },
      "source": [
        "# Training our model\n",
        "# \n",
        "from sklearn.naive_bayes import GaussianNB\n",
        "clf = GaussianNB()  \n",
        "model = clf.fit(X_train, y_train)"
      ],
      "execution_count": 27,
      "outputs": []
    },
    {
      "cell_type": "code",
      "metadata": {
        "colab": {
          "base_uri": "https://localhost:8080/"
        },
        "id": "xufIVflDE3h3",
        "outputId": "aa4a5c48-9f7d-4130-92dd-f392d44cdc5a"
      },
      "source": [
        "# Predicting our test predictors\n",
        "from sklearn.metrics import classification_report, confusion_matrix\n",
        "predicted = model.predict(X_test)\n",
        "print(np.mean(predicted == y_test))"
      ],
      "execution_count": 30,
      "outputs": [
        {
          "output_type": "stream",
          "text": [
            "0.8111638954869359\n"
          ],
          "name": "stdout"
        }
      ]
    },
    {
      "cell_type": "code",
      "metadata": {
        "colab": {
          "base_uri": "https://localhost:8080/"
        },
        "id": "LPxgancGE38-",
        "outputId": "6edce4ae-306b-4b71-bddf-b34704a05613"
      },
      "source": [
        "print(confusion_matrix(y_test, predicted))"
      ],
      "execution_count": 31,
      "outputs": [
        {
          "output_type": "stream",
          "text": [
            "[[368 147]\n",
            " [ 12 315]]\n"
          ],
          "name": "stdout"
        }
      ]
    },
    {
      "cell_type": "markdown",
      "metadata": {
        "id": "qRfID0XdFXoI"
      },
      "source": [
        "### Part 2 : 70-30 Split"
      ]
    },
    {
      "cell_type": "code",
      "metadata": {
        "id": "_OASTt-GFcXR"
      },
      "source": [
        "\n",
        "# Splitting our data into a training set and a test set\n",
        "# \n",
        "X_train, X_test, y_train, y_test = train_test_split(X, y, test_size=0.3, random_state=6)"
      ],
      "execution_count": 32,
      "outputs": []
    },
    {
      "cell_type": "code",
      "metadata": {
        "id": "m5_bNYq_Gafc"
      },
      "source": [
        "# Training our model\n",
        "# \n",
        "\n",
        "clf = GaussianNB()  \n",
        "model = clf.fit(X_train, y_train)"
      ],
      "execution_count": 33,
      "outputs": []
    },
    {
      "cell_type": "code",
      "metadata": {
        "colab": {
          "base_uri": "https://localhost:8080/"
        },
        "id": "qt6gJyPpGcxf",
        "outputId": "09c51a32-ead9-4306-8ce2-b9abcc3318a1"
      },
      "source": [
        "# Predicting our test predictors\n",
        "\n",
        "predicted = model.predict(X_test)\n",
        "print(np.mean(predicted == y_test))"
      ],
      "execution_count": 34,
      "outputs": [
        {
          "output_type": "stream",
          "text": [
            "0.8147268408551069\n"
          ],
          "name": "stdout"
        }
      ]
    },
    {
      "cell_type": "code",
      "metadata": {
        "colab": {
          "base_uri": "https://localhost:8080/"
        },
        "id": "_oQwYg9ZGgxe",
        "outputId": "df8e2486-be18-40a0-e80a-77cb1399de2a"
      },
      "source": [
        "print(confusion_matrix(y_test, predicted))"
      ],
      "execution_count": 35,
      "outputs": [
        {
          "output_type": "stream",
          "text": [
            "[[547 211]\n",
            " [ 23 482]]\n"
          ],
          "name": "stdout"
        }
      ]
    },
    {
      "cell_type": "markdown",
      "metadata": {
        "id": "SdSW6aifGjS1"
      },
      "source": [
        "### Part 3 : 60-40 Split"
      ]
    },
    {
      "cell_type": "code",
      "metadata": {
        "id": "GG53ZiUHGrDU"
      },
      "source": [
        "# Splitting our data into a training set and a test set\n",
        "# \n",
        "X_train, X_test, y_train, y_test = train_test_split(X, y, test_size=0.4, random_state=6)"
      ],
      "execution_count": 36,
      "outputs": []
    },
    {
      "cell_type": "code",
      "metadata": {
        "id": "4DNEjbN_GxKy"
      },
      "source": [
        "# Training our model\n",
        "# \n",
        "\n",
        "clf = GaussianNB()  \n",
        "model = clf.fit(X_train, y_train)"
      ],
      "execution_count": 37,
      "outputs": []
    },
    {
      "cell_type": "code",
      "metadata": {
        "colab": {
          "base_uri": "https://localhost:8080/"
        },
        "id": "iT0lyKscGx6R",
        "outputId": "afb5a3fd-7fe4-45ec-f0fa-3f9b63ffd3f5"
      },
      "source": [
        "# Predicting our test predictors\n",
        "\n",
        "predicted = model.predict(X_test)\n",
        "print(np.mean(predicted == y_test))"
      ],
      "execution_count": 38,
      "outputs": [
        {
          "output_type": "stream",
          "text": [
            "0.8147268408551069\n"
          ],
          "name": "stdout"
        }
      ]
    },
    {
      "cell_type": "code",
      "metadata": {
        "colab": {
          "base_uri": "https://localhost:8080/"
        },
        "id": "V71asmY7G2Dt",
        "outputId": "5de006db-f05d-493f-f3c6-ef547ad44943"
      },
      "source": [
        "print(confusion_matrix(y_test, predicted))"
      ],
      "execution_count": 39,
      "outputs": [
        {
          "output_type": "stream",
          "text": [
            "[[728 275]\n",
            " [ 37 644]]\n"
          ],
          "name": "stdout"
        }
      ]
    },
    {
      "cell_type": "markdown",
      "metadata": {
        "id": "lQ2G4ZPDVOXE"
      },
      "source": [
        "## 8. Challenging the solution"
      ]
    },
    {
      "cell_type": "markdown",
      "metadata": {
        "id": "jWVGKGuiYMWg"
      },
      "source": [
        "> The easy solution is nice because it is, well, easy, but you should never allow those results to hold the day. You should always be thinking of ways to challenge the results, especially if those results comport with your prior expectation.\n",
        "\n",
        "\n",
        "\n",
        "\n"
      ]
    },
    {
      "cell_type": "code",
      "metadata": {
        "id": "j3x3SXZ4XT_L",
        "colab": {
          "base_uri": "https://localhost:8080/"
        },
        "outputId": "68b20f3f-7e75-4a1d-d7af-16ad0349a4e2"
      },
      "source": [
        "# Reviewing the Solution \n",
        "#\n",
        "# Load libraries\n",
        "from sklearn.preprocessing import Normalizer\n",
        "\n",
        "# Create normalizer\n",
        "normalizer = Normalizer(norm='l2')\n",
        "\n",
        "# Transform feature matrix\n",
        "normalizer.transform(X)"
      ],
      "execution_count": 42,
      "outputs": [
        {
          "output_type": "execute_result",
          "data": {
            "text/plain": [
              "array([[0.00000000e+00, 2.24834975e-03, 2.24834975e-03, ...,\n",
              "        1.31950026e-02, 2.14295835e-01, 9.76626921e-01],\n",
              "       [2.03297105e-04, 2.71062806e-04, 4.84040726e-04, ...,\n",
              "        4.95076854e-03, 9.77762266e-02, 9.95187732e-01],\n",
              "       [2.59683978e-05, 0.00000000e+00, 3.07292708e-04, ...,\n",
              "        4.25059392e-03, 2.09911216e-01, 9.77710178e-01],\n",
              "       ...,\n",
              "       [2.53812946e-03, 0.00000000e+00, 2.53812946e-03, ...,\n",
              "        1.18784459e-02, 5.07625892e-02, 9.98330921e-01],\n",
              "       [1.22759766e-02, 0.00000000e+00, 0.00000000e+00, ...,\n",
              "        1.46672345e-02, 6.39373781e-02, 9.97423098e-01],\n",
              "       [0.00000000e+00, 0.00000000e+00, 1.59858723e-02, ...,\n",
              "        3.07420620e-02, 1.22968248e-01, 9.83745986e-01]])"
            ]
          },
          "metadata": {
            "tags": []
          },
          "execution_count": 42
        }
      ]
    },
    {
      "cell_type": "code",
      "metadata": {
        "id": "DUQGNjFAH_J6"
      },
      "source": [
        "# Splitting our data into a training set and a test set\n",
        "# \n",
        "X_train, X_test, y_train, y_test = train_test_split(X, y, test_size=0.2, random_state=6)"
      ],
      "execution_count": 43,
      "outputs": []
    },
    {
      "cell_type": "code",
      "metadata": {
        "id": "FIzhH3x0IE4R"
      },
      "source": [
        "# Training our model\n",
        "# \n",
        "\n",
        "clf = GaussianNB()  \n",
        "model = clf.fit(X_train, y_train)"
      ],
      "execution_count": 44,
      "outputs": []
    },
    {
      "cell_type": "code",
      "metadata": {
        "colab": {
          "base_uri": "https://localhost:8080/"
        },
        "id": "8q5ntrD-IHr8",
        "outputId": "671cee68-d0fc-4ea2-86a3-4176acfb56a9"
      },
      "source": [
        "# Predicting our test predictors\n",
        "\n",
        "predicted = model.predict(X_test)\n",
        "print(np.mean(predicted == y_test))"
      ],
      "execution_count": 45,
      "outputs": [
        {
          "output_type": "stream",
          "text": [
            "0.8111638954869359\n"
          ],
          "name": "stdout"
        }
      ]
    },
    {
      "cell_type": "code",
      "metadata": {
        "colab": {
          "base_uri": "https://localhost:8080/"
        },
        "id": "eyWV3iXoILYB",
        "outputId": "c9a70b0a-9c6a-41e7-d62f-78d9bdc41f49"
      },
      "source": [
        "print(confusion_matrix(y_test, predicted))\n"
      ],
      "execution_count": 46,
      "outputs": [
        {
          "output_type": "stream",
          "text": [
            "[[368 147]\n",
            " [ 12 315]]\n"
          ],
          "name": "stdout"
        }
      ]
    },
    {
      "cell_type": "markdown",
      "metadata": {
        "id": "xrmHVMVsVS--"
      },
      "source": [
        "## 9. Follow up questions"
      ]
    },
    {
      "cell_type": "markdown",
      "metadata": {
        "id": "pth2qSWhuBIy"
      },
      "source": [
        "> At this point, we can refine our question or collect new data, all in an iterative process to get at the truth.\n",
        "\n"
      ]
    },
    {
      "cell_type": "markdown",
      "metadata": {
        "id": "HPQviDmNtta8"
      },
      "source": [
        "### a). Did we have the right data?"
      ]
    },
    {
      "cell_type": "markdown",
      "metadata": {
        "id": "qjFHK1CKty7o"
      },
      "source": [
        "### b). Do we need other data to answer our question?"
      ]
    },
    {
      "cell_type": "markdown",
      "metadata": {
        "id": "HSsicSdvt4Zs"
      },
      "source": [
        "### c). Did we have the right question?"
      ]
    }
  ]
}